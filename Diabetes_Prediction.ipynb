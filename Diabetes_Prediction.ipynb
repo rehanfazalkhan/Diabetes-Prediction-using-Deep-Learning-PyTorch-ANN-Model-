{
  "nbformat": 4,
  "nbformat_minor": 0,
  "metadata": {
    "colab": {
      "name": "Diabetes Prediction.ipynb",
      "provenance": []
    },
    "kernelspec": {
      "name": "python3",
      "display_name": "Python 3"
    },
    "language_info": {
      "name": "python"
    }
  },
  "cells": [
    {
      "cell_type": "markdown",
      "metadata": {
        "id": "CKD3uTkgCu_y"
      },
      "source": [
        "### Import Libraries"
      ]
    },
    {
      "cell_type": "code",
      "metadata": {
        "id": "QOEitybECxac"
      },
      "source": [
        "import numpy as np\n",
        "import pandas as pd\n",
        "\n",
        "import torch\n",
        "import torch.nn as nn\n",
        "import torch.optim as optim\n",
        "from torch.utils.data import DataLoader , Dataset\n",
        "\n",
        "from sklearn.preprocessing import StandardScaler"
      ],
      "execution_count": 22,
      "outputs": []
    },
    {
      "cell_type": "markdown",
      "metadata": {
        "id": "PVNuX39XDmSd"
      },
      "source": [
        "### Load The Dataset"
      ]
    },
    {
      "cell_type": "code",
      "metadata": {
        "colab": {
          "base_uri": "https://localhost:8080/",
          "height": 221
        },
        "id": "ZO7lxodzDUuJ",
        "outputId": "ffdbd5b1-ce21-47c8-9bdd-3a7a8d472b42"
      },
      "source": [
        "df = pd.read_csv(\"/content/drive/MyDrive/diabetes.csv\")\n",
        "df.head()"
      ],
      "execution_count": 3,
      "outputs": [
        {
          "output_type": "execute_result",
          "data": {
            "text/html": [
              "<div>\n",
              "<style scoped>\n",
              "    .dataframe tbody tr th:only-of-type {\n",
              "        vertical-align: middle;\n",
              "    }\n",
              "\n",
              "    .dataframe tbody tr th {\n",
              "        vertical-align: top;\n",
              "    }\n",
              "\n",
              "    .dataframe thead th {\n",
              "        text-align: right;\n",
              "    }\n",
              "</style>\n",
              "<table border=\"1\" class=\"dataframe\">\n",
              "  <thead>\n",
              "    <tr style=\"text-align: right;\">\n",
              "      <th></th>\n",
              "      <th>Number of times pregnant</th>\n",
              "      <th>Plasma glucose concentration</th>\n",
              "      <th>Diastolic blood pressure</th>\n",
              "      <th>Triceps skin fold thickness</th>\n",
              "      <th>2-Hour serum insulin</th>\n",
              "      <th>Body mass index</th>\n",
              "      <th>Age</th>\n",
              "      <th>Class</th>\n",
              "    </tr>\n",
              "  </thead>\n",
              "  <tbody>\n",
              "    <tr>\n",
              "      <th>0</th>\n",
              "      <td>6</td>\n",
              "      <td>148</td>\n",
              "      <td>72</td>\n",
              "      <td>35</td>\n",
              "      <td>0</td>\n",
              "      <td>33.6</td>\n",
              "      <td>50</td>\n",
              "      <td>positive</td>\n",
              "    </tr>\n",
              "    <tr>\n",
              "      <th>1</th>\n",
              "      <td>1</td>\n",
              "      <td>85</td>\n",
              "      <td>66</td>\n",
              "      <td>29</td>\n",
              "      <td>0</td>\n",
              "      <td>26.6</td>\n",
              "      <td>31</td>\n",
              "      <td>negative</td>\n",
              "    </tr>\n",
              "    <tr>\n",
              "      <th>2</th>\n",
              "      <td>8</td>\n",
              "      <td>183</td>\n",
              "      <td>64</td>\n",
              "      <td>0</td>\n",
              "      <td>0</td>\n",
              "      <td>23.3</td>\n",
              "      <td>32</td>\n",
              "      <td>positive</td>\n",
              "    </tr>\n",
              "    <tr>\n",
              "      <th>3</th>\n",
              "      <td>1</td>\n",
              "      <td>89</td>\n",
              "      <td>66</td>\n",
              "      <td>23</td>\n",
              "      <td>94</td>\n",
              "      <td>28.1</td>\n",
              "      <td>21</td>\n",
              "      <td>negative</td>\n",
              "    </tr>\n",
              "    <tr>\n",
              "      <th>4</th>\n",
              "      <td>0</td>\n",
              "      <td>137</td>\n",
              "      <td>40</td>\n",
              "      <td>35</td>\n",
              "      <td>168</td>\n",
              "      <td>43.1</td>\n",
              "      <td>33</td>\n",
              "      <td>positive</td>\n",
              "    </tr>\n",
              "  </tbody>\n",
              "</table>\n",
              "</div>"
            ],
            "text/plain": [
              "   Number of times pregnant  Plasma glucose concentration  ...  Age     Class\n",
              "0                         6                           148  ...   50  positive\n",
              "1                         1                            85  ...   31  negative\n",
              "2                         8                           183  ...   32  positive\n",
              "3                         1                            89  ...   21  negative\n",
              "4                         0                           137  ...   33  positive\n",
              "\n",
              "[5 rows x 8 columns]"
            ]
          },
          "metadata": {},
          "execution_count": 3
        }
      ]
    },
    {
      "cell_type": "code",
      "metadata": {
        "colab": {
          "base_uri": "https://localhost:8080/"
        },
        "id": "ghcE2CdEDvPD",
        "outputId": "dcfc53e3-e360-45f7-bb52-739ed4f45276"
      },
      "source": [
        "df.info()"
      ],
      "execution_count": 4,
      "outputs": [
        {
          "output_type": "stream",
          "name": "stdout",
          "text": [
            "<class 'pandas.core.frame.DataFrame'>\n",
            "RangeIndex: 768 entries, 0 to 767\n",
            "Data columns (total 8 columns):\n",
            " #   Column                        Non-Null Count  Dtype  \n",
            "---  ------                        --------------  -----  \n",
            " 0   Number of times pregnant      768 non-null    int64  \n",
            " 1   Plasma glucose concentration  768 non-null    int64  \n",
            " 2   Diastolic blood pressure      768 non-null    int64  \n",
            " 3   Triceps skin fold thickness   768 non-null    int64  \n",
            " 4   2-Hour serum insulin          768 non-null    int64  \n",
            " 5   Body mass index               768 non-null    float64\n",
            " 6   Age                           768 non-null    int64  \n",
            " 7   Class                         768 non-null    object \n",
            "dtypes: float64(1), int64(6), object(1)\n",
            "memory usage: 48.1+ KB\n"
          ]
        }
      ]
    },
    {
      "cell_type": "code",
      "metadata": {
        "colab": {
          "base_uri": "https://localhost:8080/"
        },
        "id": "E3q7BA3YD5au",
        "outputId": "11daa54f-2bd4-48f3-8589-ab319f4a113f"
      },
      "source": [
        "df.isnull().sum()"
      ],
      "execution_count": 5,
      "outputs": [
        {
          "output_type": "execute_result",
          "data": {
            "text/plain": [
              "Number of times pregnant        0\n",
              "Plasma glucose concentration    0\n",
              "Diastolic blood pressure        0\n",
              "Triceps skin fold thickness     0\n",
              "2-Hour serum insulin            0\n",
              "Body mass index                 0\n",
              "Age                             0\n",
              "Class                           0\n",
              "dtype: int64"
            ]
          },
          "metadata": {},
          "execution_count": 5
        }
      ]
    },
    {
      "cell_type": "code",
      "metadata": {
        "colab": {
          "base_uri": "https://localhost:8080/",
          "height": 314
        },
        "id": "X_jPD9wAEE9K",
        "outputId": "71a1a60f-1192-4093-e8f5-699ad8454ad6"
      },
      "source": [
        "df.describe()"
      ],
      "execution_count": 6,
      "outputs": [
        {
          "output_type": "execute_result",
          "data": {
            "text/html": [
              "<div>\n",
              "<style scoped>\n",
              "    .dataframe tbody tr th:only-of-type {\n",
              "        vertical-align: middle;\n",
              "    }\n",
              "\n",
              "    .dataframe tbody tr th {\n",
              "        vertical-align: top;\n",
              "    }\n",
              "\n",
              "    .dataframe thead th {\n",
              "        text-align: right;\n",
              "    }\n",
              "</style>\n",
              "<table border=\"1\" class=\"dataframe\">\n",
              "  <thead>\n",
              "    <tr style=\"text-align: right;\">\n",
              "      <th></th>\n",
              "      <th>Number of times pregnant</th>\n",
              "      <th>Plasma glucose concentration</th>\n",
              "      <th>Diastolic blood pressure</th>\n",
              "      <th>Triceps skin fold thickness</th>\n",
              "      <th>2-Hour serum insulin</th>\n",
              "      <th>Body mass index</th>\n",
              "      <th>Age</th>\n",
              "    </tr>\n",
              "  </thead>\n",
              "  <tbody>\n",
              "    <tr>\n",
              "      <th>count</th>\n",
              "      <td>768.000000</td>\n",
              "      <td>768.000000</td>\n",
              "      <td>768.000000</td>\n",
              "      <td>768.000000</td>\n",
              "      <td>768.000000</td>\n",
              "      <td>768.000000</td>\n",
              "      <td>768.000000</td>\n",
              "    </tr>\n",
              "    <tr>\n",
              "      <th>mean</th>\n",
              "      <td>3.845052</td>\n",
              "      <td>120.894531</td>\n",
              "      <td>69.105469</td>\n",
              "      <td>20.536458</td>\n",
              "      <td>79.799479</td>\n",
              "      <td>31.992578</td>\n",
              "      <td>33.240885</td>\n",
              "    </tr>\n",
              "    <tr>\n",
              "      <th>std</th>\n",
              "      <td>3.369578</td>\n",
              "      <td>31.972618</td>\n",
              "      <td>19.355807</td>\n",
              "      <td>15.952218</td>\n",
              "      <td>115.244002</td>\n",
              "      <td>7.884160</td>\n",
              "      <td>11.760232</td>\n",
              "    </tr>\n",
              "    <tr>\n",
              "      <th>min</th>\n",
              "      <td>0.000000</td>\n",
              "      <td>0.000000</td>\n",
              "      <td>0.000000</td>\n",
              "      <td>0.000000</td>\n",
              "      <td>0.000000</td>\n",
              "      <td>0.000000</td>\n",
              "      <td>21.000000</td>\n",
              "    </tr>\n",
              "    <tr>\n",
              "      <th>25%</th>\n",
              "      <td>1.000000</td>\n",
              "      <td>99.000000</td>\n",
              "      <td>62.000000</td>\n",
              "      <td>0.000000</td>\n",
              "      <td>0.000000</td>\n",
              "      <td>27.300000</td>\n",
              "      <td>24.000000</td>\n",
              "    </tr>\n",
              "    <tr>\n",
              "      <th>50%</th>\n",
              "      <td>3.000000</td>\n",
              "      <td>117.000000</td>\n",
              "      <td>72.000000</td>\n",
              "      <td>23.000000</td>\n",
              "      <td>30.500000</td>\n",
              "      <td>32.000000</td>\n",
              "      <td>29.000000</td>\n",
              "    </tr>\n",
              "    <tr>\n",
              "      <th>75%</th>\n",
              "      <td>6.000000</td>\n",
              "      <td>140.250000</td>\n",
              "      <td>80.000000</td>\n",
              "      <td>32.000000</td>\n",
              "      <td>127.250000</td>\n",
              "      <td>36.600000</td>\n",
              "      <td>41.000000</td>\n",
              "    </tr>\n",
              "    <tr>\n",
              "      <th>max</th>\n",
              "      <td>17.000000</td>\n",
              "      <td>199.000000</td>\n",
              "      <td>122.000000</td>\n",
              "      <td>99.000000</td>\n",
              "      <td>846.000000</td>\n",
              "      <td>67.100000</td>\n",
              "      <td>81.000000</td>\n",
              "    </tr>\n",
              "  </tbody>\n",
              "</table>\n",
              "</div>"
            ],
            "text/plain": [
              "       Number of times pregnant  ...         Age\n",
              "count                768.000000  ...  768.000000\n",
              "mean                   3.845052  ...   33.240885\n",
              "std                    3.369578  ...   11.760232\n",
              "min                    0.000000  ...   21.000000\n",
              "25%                    1.000000  ...   24.000000\n",
              "50%                    3.000000  ...   29.000000\n",
              "75%                    6.000000  ...   41.000000\n",
              "max                   17.000000  ...   81.000000\n",
              "\n",
              "[8 rows x 7 columns]"
            ]
          },
          "metadata": {},
          "execution_count": 6
        }
      ]
    },
    {
      "cell_type": "code",
      "metadata": {
        "id": "wlzDp4MvEI6K"
      },
      "source": [
        "x = df.iloc[:,:6]\n",
        "y = df[\"Class\"]"
      ],
      "execution_count": 10,
      "outputs": []
    },
    {
      "cell_type": "code",
      "metadata": {
        "colab": {
          "base_uri": "https://localhost:8080/",
          "height": 204
        },
        "id": "qxDFDHNLEse4",
        "outputId": "dbe6dbcd-d6b2-4a21-b199-ae98d32a1c0e"
      },
      "source": [
        "x.head()"
      ],
      "execution_count": 11,
      "outputs": [
        {
          "output_type": "execute_result",
          "data": {
            "text/html": [
              "<div>\n",
              "<style scoped>\n",
              "    .dataframe tbody tr th:only-of-type {\n",
              "        vertical-align: middle;\n",
              "    }\n",
              "\n",
              "    .dataframe tbody tr th {\n",
              "        vertical-align: top;\n",
              "    }\n",
              "\n",
              "    .dataframe thead th {\n",
              "        text-align: right;\n",
              "    }\n",
              "</style>\n",
              "<table border=\"1\" class=\"dataframe\">\n",
              "  <thead>\n",
              "    <tr style=\"text-align: right;\">\n",
              "      <th></th>\n",
              "      <th>Number of times pregnant</th>\n",
              "      <th>Plasma glucose concentration</th>\n",
              "      <th>Diastolic blood pressure</th>\n",
              "      <th>Triceps skin fold thickness</th>\n",
              "      <th>2-Hour serum insulin</th>\n",
              "      <th>Body mass index</th>\n",
              "    </tr>\n",
              "  </thead>\n",
              "  <tbody>\n",
              "    <tr>\n",
              "      <th>0</th>\n",
              "      <td>6</td>\n",
              "      <td>148</td>\n",
              "      <td>72</td>\n",
              "      <td>35</td>\n",
              "      <td>0</td>\n",
              "      <td>33.6</td>\n",
              "    </tr>\n",
              "    <tr>\n",
              "      <th>1</th>\n",
              "      <td>1</td>\n",
              "      <td>85</td>\n",
              "      <td>66</td>\n",
              "      <td>29</td>\n",
              "      <td>0</td>\n",
              "      <td>26.6</td>\n",
              "    </tr>\n",
              "    <tr>\n",
              "      <th>2</th>\n",
              "      <td>8</td>\n",
              "      <td>183</td>\n",
              "      <td>64</td>\n",
              "      <td>0</td>\n",
              "      <td>0</td>\n",
              "      <td>23.3</td>\n",
              "    </tr>\n",
              "    <tr>\n",
              "      <th>3</th>\n",
              "      <td>1</td>\n",
              "      <td>89</td>\n",
              "      <td>66</td>\n",
              "      <td>23</td>\n",
              "      <td>94</td>\n",
              "      <td>28.1</td>\n",
              "    </tr>\n",
              "    <tr>\n",
              "      <th>4</th>\n",
              "      <td>0</td>\n",
              "      <td>137</td>\n",
              "      <td>40</td>\n",
              "      <td>35</td>\n",
              "      <td>168</td>\n",
              "      <td>43.1</td>\n",
              "    </tr>\n",
              "  </tbody>\n",
              "</table>\n",
              "</div>"
            ],
            "text/plain": [
              "   Number of times pregnant  ...  Body mass index\n",
              "0                         6  ...             33.6\n",
              "1                         1  ...             26.6\n",
              "2                         8  ...             23.3\n",
              "3                         1  ...             28.1\n",
              "4                         0  ...             43.1\n",
              "\n",
              "[5 rows x 6 columns]"
            ]
          },
          "metadata": {},
          "execution_count": 11
        }
      ]
    },
    {
      "cell_type": "code",
      "metadata": {
        "colab": {
          "base_uri": "https://localhost:8080/"
        },
        "id": "zbzRmwmNEt_N",
        "outputId": "b2fd2763-adb8-4075-bee3-b6705db97802"
      },
      "source": [
        "y.head()"
      ],
      "execution_count": 12,
      "outputs": [
        {
          "output_type": "execute_result",
          "data": {
            "text/plain": [
              "0    positive\n",
              "1    negative\n",
              "2    positive\n",
              "3    negative\n",
              "4    positive\n",
              "Name: Class, dtype: object"
            ]
          },
          "metadata": {},
          "execution_count": 12
        }
      ]
    },
    {
      "cell_type": "code",
      "metadata": {
        "id": "U7I9fmM_Ewmz"
      },
      "source": [
        "y = y.map({\"positive\":1,\"negative\":0})"
      ],
      "execution_count": 13,
      "outputs": []
    },
    {
      "cell_type": "code",
      "metadata": {
        "colab": {
          "base_uri": "https://localhost:8080/"
        },
        "id": "wxm8Irz-FT-i",
        "outputId": "94a618bb-b0ca-4bac-cbbe-3b6defe97317"
      },
      "source": [
        "y.head(10)"
      ],
      "execution_count": 14,
      "outputs": [
        {
          "output_type": "execute_result",
          "data": {
            "text/plain": [
              "0    1\n",
              "1    0\n",
              "2    1\n",
              "3    0\n",
              "4    1\n",
              "5    0\n",
              "6    1\n",
              "7    0\n",
              "8    1\n",
              "9    1\n",
              "Name: Class, dtype: int64"
            ]
          },
          "metadata": {},
          "execution_count": 14
        }
      ]
    },
    {
      "cell_type": "code",
      "metadata": {
        "id": "9BbfXyhCFV74"
      },
      "source": [
        "y = np.array(y,dtype=\"float64\")"
      ],
      "execution_count": 15,
      "outputs": []
    },
    {
      "cell_type": "code",
      "metadata": {
        "id": "p99AWZCUFsKg"
      },
      "source": [
        "sc = StandardScaler()\n",
        "\n",
        "x = sc.fit_transform(x)"
      ],
      "execution_count": 17,
      "outputs": []
    },
    {
      "cell_type": "code",
      "metadata": {
        "colab": {
          "base_uri": "https://localhost:8080/"
        },
        "id": "X-IZ01KjF81b",
        "outputId": "f2a0edef-92bb-45bd-d94b-9b8db52c07e5"
      },
      "source": [
        "x = torch.tensor(x)\n",
        "y = torch.tensor(y).unsqueeze(1)"
      ],
      "execution_count": 20,
      "outputs": [
        {
          "output_type": "stream",
          "name": "stderr",
          "text": [
            "/usr/local/lib/python3.7/dist-packages/ipykernel_launcher.py:1: UserWarning: To copy construct from a tensor, it is recommended to use sourceTensor.clone().detach() or sourceTensor.clone().detach().requires_grad_(True), rather than torch.tensor(sourceTensor).\n",
            "  \"\"\"Entry point for launching an IPython kernel.\n",
            "/usr/local/lib/python3.7/dist-packages/ipykernel_launcher.py:2: UserWarning: To copy construct from a tensor, it is recommended to use sourceTensor.clone().detach() or sourceTensor.clone().detach().requires_grad_(True), rather than torch.tensor(sourceTensor).\n",
            "  \n"
          ]
        }
      ]
    },
    {
      "cell_type": "code",
      "metadata": {
        "colab": {
          "base_uri": "https://localhost:8080/"
        },
        "id": "3yoTLgyKGar0",
        "outputId": "0d4f6e03-b68b-4cbc-9efc-b5aebd43c78f"
      },
      "source": [
        "x.shape , y.shape"
      ],
      "execution_count": 21,
      "outputs": [
        {
          "output_type": "execute_result",
          "data": {
            "text/plain": [
              "(torch.Size([768, 6]), torch.Size([768, 1]))"
            ]
          },
          "metadata": {},
          "execution_count": 21
        }
      ]
    },
    {
      "cell_type": "markdown",
      "metadata": {
        "id": "rGkgGADyG232"
      },
      "source": [
        "### Creating Custom Dataset"
      ]
    },
    {
      "cell_type": "code",
      "metadata": {
        "id": "XoYuPAyfGcqu"
      },
      "source": [
        "class Dataset(Dataset):\n",
        "\n",
        "  def __init__(self,x,y):\n",
        "    self.x = x\n",
        "    self.y = y\n",
        "\n",
        "  def __getitem__(self,index):\n",
        "    return self.x[index],self.y[index]\n",
        "\n",
        "  def __len__(self):\n",
        "    return len(self.x)\n"
      ],
      "execution_count": 29,
      "outputs": []
    },
    {
      "cell_type": "code",
      "metadata": {
        "id": "NgGOkDbwH2WH"
      },
      "source": [
        "dataset = Dataset(x,y)"
      ],
      "execution_count": 30,
      "outputs": []
    },
    {
      "cell_type": "code",
      "metadata": {
        "colab": {
          "base_uri": "https://localhost:8080/"
        },
        "id": "2IqWKZqgH5r7",
        "outputId": "bfcc9a1e-53b3-4234-95d0-06f9be01681c"
      },
      "source": [
        "len(dataset)"
      ],
      "execution_count": 31,
      "outputs": [
        {
          "output_type": "execute_result",
          "data": {
            "text/plain": [
              "32"
            ]
          },
          "metadata": {},
          "execution_count": 31
        }
      ]
    },
    {
      "cell_type": "code",
      "metadata": {
        "id": "GNFB3MsnH7X4"
      },
      "source": [
        "train_loader = DataLoader(dataset=dataset,batch_size=32,shuffle=True)"
      ],
      "execution_count": 32,
      "outputs": []
    },
    {
      "cell_type": "code",
      "metadata": {
        "colab": {
          "base_uri": "https://localhost:8080/"
        },
        "id": "KoRdFLS8IaMZ",
        "outputId": "90c2095d-baf1-44af-f6e6-b0fb1a37799c"
      },
      "source": [
        "for x,y in train_loader:\n",
        "  print(x.shape,y.shape)\n",
        "  break"
      ],
      "execution_count": 34,
      "outputs": [
        {
          "output_type": "stream",
          "name": "stdout",
          "text": [
            "torch.Size([32, 6]) torch.Size([32, 1])\n"
          ]
        }
      ]
    },
    {
      "cell_type": "markdown",
      "metadata": {
        "id": "GP3PXLJBI_gR"
      },
      "source": [
        "### Creating ANN Model"
      ]
    },
    {
      "cell_type": "code",
      "metadata": {
        "id": "XyDzJVz2IksR"
      },
      "source": [
        "class ANN(nn.Module):\n",
        "  def __init__(self,input_features,output_features):\n",
        "    super(ANN,self).__init__()\n",
        "\n",
        "    self.fc1 = nn.Linear(input_features ,5)\n",
        "    self.fc2 = nn.Linear(5,4)\n",
        "    self.fc3 = nn.Linear(4,3)\n",
        "    self.fc4 = nn.Linear(3,output_features)\n",
        "    self.sigmoid = nn.Sigmoid()\n",
        "    self.relu = nn.ReLU()\n",
        "\n",
        "  def forward(self,x):\n",
        "    out = self.fc1(x)\n",
        "    out = self.relu(out)\n",
        "    out = self.fc2(out)\n",
        "    out = self.relu(out)\n",
        "    out = self.fc3(out)\n",
        "    out = self.relu(out)\n",
        "    out = self.fc4(out)\n",
        "    out = self.sigmoid(out)\n",
        "\n",
        "    return out"
      ],
      "execution_count": 53,
      "outputs": []
    },
    {
      "cell_type": "code",
      "metadata": {
        "id": "CjqUAszZLJzP"
      },
      "source": [
        "net = ANN(6,1)\n",
        "\n",
        "loss_fn = torch.nn.BCELoss()\n",
        "optimizer = optim.SGD(net.parameters(),lr=0.001)"
      ],
      "execution_count": 54,
      "outputs": []
    },
    {
      "cell_type": "markdown",
      "metadata": {
        "id": "JioLPHDaMGn0"
      },
      "source": [
        "### Trainig ANN Model"
      ]
    },
    {
      "cell_type": "code",
      "metadata": {
        "colab": {
          "base_uri": "https://localhost:8080/"
        },
        "id": "VeKV9u7BLljU",
        "outputId": "b7795c36-c6ce-4207-8a3d-9b5ec7a1eada"
      },
      "source": [
        "epochs = 100\n",
        "\n",
        "for epoch in range(epochs):\n",
        "\n",
        "  train_loss = 0.0\n",
        "  train_acc = 0.0\n",
        "\n",
        "  for inputs,labels in train_loader:\n",
        "    \n",
        "    inputs = inputs.float()\n",
        "    labels = labels.float()\n",
        "\n",
        "\n",
        "    outputs = net(inputs) # forward\n",
        "    loss = loss_fn(outputs,labels)\n",
        "\n",
        "    train_loss += loss.item()\n",
        "\n",
        "    optimizer.zero_grad() \n",
        "    loss.backward() # Wn = Wo - lr * gradient\n",
        "    optimizer.step()\n",
        "\n",
        "\n",
        "    output = (outputs>0.5).float()\n",
        "    train_acc+= (output==labels).sum().item()\n",
        "\n",
        "  print(\"Epoch{} , Training Acc {:.2f} , Training Loss{:.2f}\".format(epoch+1, \n",
        "                              train_acc/len(x),train_loss/len(train_loader)))"
      ],
      "execution_count": 58,
      "outputs": [
        {
          "output_type": "stream",
          "name": "stdout",
          "text": [
            "Epoch1 , Training Acc 0.62 , Training Loss0.68\n",
            "Epoch2 , Training Acc 0.62 , Training Loss0.68\n",
            "Epoch3 , Training Acc 0.62 , Training Loss0.68\n",
            "Epoch4 , Training Acc 0.62 , Training Loss0.68\n",
            "Epoch5 , Training Acc 0.62 , Training Loss0.68\n",
            "Epoch6 , Training Acc 0.62 , Training Loss0.68\n",
            "Epoch7 , Training Acc 0.62 , Training Loss0.68\n",
            "Epoch8 , Training Acc 0.62 , Training Loss0.68\n",
            "Epoch9 , Training Acc 0.62 , Training Loss0.68\n",
            "Epoch10 , Training Acc 0.62 , Training Loss0.68\n",
            "Epoch11 , Training Acc 0.62 , Training Loss0.68\n",
            "Epoch12 , Training Acc 0.62 , Training Loss0.68\n",
            "Epoch13 , Training Acc 0.62 , Training Loss0.68\n",
            "Epoch14 , Training Acc 0.62 , Training Loss0.68\n",
            "Epoch15 , Training Acc 0.62 , Training Loss0.68\n",
            "Epoch16 , Training Acc 0.62 , Training Loss0.68\n",
            "Epoch17 , Training Acc 0.62 , Training Loss0.68\n",
            "Epoch18 , Training Acc 0.62 , Training Loss0.68\n",
            "Epoch19 , Training Acc 0.62 , Training Loss0.68\n",
            "Epoch20 , Training Acc 0.62 , Training Loss0.68\n",
            "Epoch21 , Training Acc 0.62 , Training Loss0.68\n",
            "Epoch22 , Training Acc 0.62 , Training Loss0.68\n",
            "Epoch23 , Training Acc 0.62 , Training Loss0.68\n",
            "Epoch24 , Training Acc 0.62 , Training Loss0.68\n",
            "Epoch25 , Training Acc 0.62 , Training Loss0.68\n",
            "Epoch26 , Training Acc 0.62 , Training Loss0.68\n",
            "Epoch27 , Training Acc 0.62 , Training Loss0.68\n",
            "Epoch28 , Training Acc 0.62 , Training Loss0.68\n",
            "Epoch29 , Training Acc 0.62 , Training Loss0.68\n",
            "Epoch30 , Training Acc 0.62 , Training Loss0.68\n",
            "Epoch31 , Training Acc 0.62 , Training Loss0.68\n",
            "Epoch32 , Training Acc 0.62 , Training Loss0.68\n",
            "Epoch33 , Training Acc 0.62 , Training Loss0.68\n",
            "Epoch34 , Training Acc 0.62 , Training Loss0.68\n",
            "Epoch35 , Training Acc 0.62 , Training Loss0.68\n",
            "Epoch36 , Training Acc 0.62 , Training Loss0.68\n",
            "Epoch37 , Training Acc 0.62 , Training Loss0.68\n",
            "Epoch38 , Training Acc 0.62 , Training Loss0.68\n",
            "Epoch39 , Training Acc 0.62 , Training Loss0.68\n",
            "Epoch40 , Training Acc 0.62 , Training Loss0.68\n",
            "Epoch41 , Training Acc 0.62 , Training Loss0.68\n",
            "Epoch42 , Training Acc 0.62 , Training Loss0.68\n",
            "Epoch43 , Training Acc 0.62 , Training Loss0.68\n",
            "Epoch44 , Training Acc 0.62 , Training Loss0.68\n",
            "Epoch45 , Training Acc 0.62 , Training Loss0.68\n",
            "Epoch46 , Training Acc 0.62 , Training Loss0.68\n",
            "Epoch47 , Training Acc 0.62 , Training Loss0.68\n",
            "Epoch48 , Training Acc 0.62 , Training Loss0.68\n",
            "Epoch49 , Training Acc 0.62 , Training Loss0.68\n",
            "Epoch50 , Training Acc 0.62 , Training Loss0.68\n",
            "Epoch51 , Training Acc 0.62 , Training Loss0.68\n",
            "Epoch52 , Training Acc 0.62 , Training Loss0.68\n",
            "Epoch53 , Training Acc 0.62 , Training Loss0.68\n",
            "Epoch54 , Training Acc 0.62 , Training Loss0.68\n",
            "Epoch55 , Training Acc 0.62 , Training Loss0.68\n",
            "Epoch56 , Training Acc 0.62 , Training Loss0.68\n",
            "Epoch57 , Training Acc 0.62 , Training Loss0.68\n",
            "Epoch58 , Training Acc 0.62 , Training Loss0.68\n",
            "Epoch59 , Training Acc 0.62 , Training Loss0.68\n",
            "Epoch60 , Training Acc 0.62 , Training Loss0.68\n",
            "Epoch61 , Training Acc 0.62 , Training Loss0.68\n",
            "Epoch62 , Training Acc 0.62 , Training Loss0.68\n",
            "Epoch63 , Training Acc 0.62 , Training Loss0.68\n",
            "Epoch64 , Training Acc 0.62 , Training Loss0.68\n",
            "Epoch65 , Training Acc 0.62 , Training Loss0.68\n",
            "Epoch66 , Training Acc 0.62 , Training Loss0.68\n",
            "Epoch67 , Training Acc 0.62 , Training Loss0.68\n",
            "Epoch68 , Training Acc 0.62 , Training Loss0.68\n",
            "Epoch69 , Training Acc 0.62 , Training Loss0.68\n",
            "Epoch70 , Training Acc 0.62 , Training Loss0.68\n",
            "Epoch71 , Training Acc 0.62 , Training Loss0.68\n",
            "Epoch72 , Training Acc 0.62 , Training Loss0.68\n",
            "Epoch73 , Training Acc 0.62 , Training Loss0.68\n",
            "Epoch74 , Training Acc 0.62 , Training Loss0.68\n",
            "Epoch75 , Training Acc 0.62 , Training Loss0.68\n",
            "Epoch76 , Training Acc 0.62 , Training Loss0.68\n",
            "Epoch77 , Training Acc 0.62 , Training Loss0.68\n",
            "Epoch78 , Training Acc 0.62 , Training Loss0.68\n",
            "Epoch79 , Training Acc 0.62 , Training Loss0.68\n",
            "Epoch80 , Training Acc 0.62 , Training Loss0.68\n",
            "Epoch81 , Training Acc 0.62 , Training Loss0.68\n",
            "Epoch82 , Training Acc 0.62 , Training Loss0.68\n",
            "Epoch83 , Training Acc 0.62 , Training Loss0.68\n",
            "Epoch84 , Training Acc 0.62 , Training Loss0.68\n",
            "Epoch85 , Training Acc 0.62 , Training Loss0.68\n",
            "Epoch86 , Training Acc 0.62 , Training Loss0.68\n",
            "Epoch87 , Training Acc 0.62 , Training Loss0.68\n",
            "Epoch88 , Training Acc 0.62 , Training Loss0.68\n",
            "Epoch89 , Training Acc 0.62 , Training Loss0.68\n",
            "Epoch90 , Training Acc 0.62 , Training Loss0.68\n",
            "Epoch91 , Training Acc 0.62 , Training Loss0.68\n",
            "Epoch92 , Training Acc 0.62 , Training Loss0.68\n",
            "Epoch93 , Training Acc 0.62 , Training Loss0.68\n",
            "Epoch94 , Training Acc 0.62 , Training Loss0.68\n",
            "Epoch95 , Training Acc 0.62 , Training Loss0.68\n",
            "Epoch96 , Training Acc 0.62 , Training Loss0.68\n",
            "Epoch97 , Training Acc 0.62 , Training Loss0.68\n",
            "Epoch98 , Training Acc 0.62 , Training Loss0.68\n",
            "Epoch99 , Training Acc 0.62 , Training Loss0.68\n",
            "Epoch100 , Training Acc 0.62 , Training Loss0.68\n"
          ]
        }
      ]
    },
    {
      "cell_type": "code",
      "metadata": {
        "id": "qbFItiwrOesP"
      },
      "source": [
        ""
      ],
      "execution_count": null,
      "outputs": []
    }
  ]
}